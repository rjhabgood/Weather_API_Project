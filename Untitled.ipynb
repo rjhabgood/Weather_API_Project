{
 "cells": [
  {
   "cell_type": "code",
   "execution_count": null,
   "id": "e46911c9",
   "metadata": {},
   "outputs": [],
   "source": [
    "!pip install html5lib"
   ]
  },
  {
   "cell_type": "code",
   "execution_count": 1,
   "id": "2c74e824",
   "metadata": {},
   "outputs": [],
   "source": [
    "import requests\n",
    "import pandas as pd\n",
    "data = requests.get(\"https://www.capitoltrades.com/trades\").text\n",
    "data2= requests.get(\"https://www.capitoltrades.com/trades?page=2\").text\n"
   ]
  },
  {
   "cell_type": "code",
   "execution_count": 2,
   "id": "4a629aa2",
   "metadata": {
    "scrolled": false
   },
   "outputs": [],
   "source": [
    "pd_data = pd.read_html(data)\n"
   ]
  },
  {
   "cell_type": "code",
   "execution_count": 3,
   "id": "e19d77be",
   "metadata": {},
   "outputs": [
    {
     "data": {
      "text/plain": [
       "[                        Politician                             Traded Issuer  \\\n",
       " 0       Bob LattaRepublicanHouseOH    Farmers & Merchants Bancorp IncFMAO:US   \n",
       " 1      Rudy YakymRepublicanHouseIN                      US TREASURY BILLSN/A   \n",
       " 2      Rudy YakymRepublicanHouseIN                      US TREASURY BILLSN/A   \n",
       " 3      Rudy YakymRepublicanHouseIN                      US TREASURY BILLSN/A   \n",
       " 4      Lois FrankelDemocratHouseFL                       Accenture PLCACN:US   \n",
       " 5      Lois FrankelDemocratHouseFL                          Diageo PLCDEO:US   \n",
       " 6      Lois FrankelDemocratHouseFL                          Diageo PLCDEO:US   \n",
       " 7      Lois FrankelDemocratHouseFL                          Fluor CorpFLR:US   \n",
       " 8      Lois FrankelDemocratHouseFL       Hudson Pacific Properties IncHPP:US   \n",
       " 9      Lois FrankelDemocratHouseFL  Johnson Controls International PLCJCI:US   \n",
       " 10     Lois FrankelDemocratHouseFL               Northrop Grumman CorpNOC:US   \n",
       " 11     Lois FrankelDemocratHouseFL             The Sherwin-Williams CoSHW:US   \n",
       " 12     Mark GreenRepublicanHouseTN                   Energy Transfer LPET:US   \n",
       " 13  Virginia FoxxRepublicanHouseNC                     Altria Group IncMO:US   \n",
       " 14  Virginia FoxxRepublicanHouseNC                       FLEX LNG LTDFLNG:US   \n",
       " \n",
       "           Published       Traded Filed after        Owner  Type      Size  \\\n",
       " 0   Yesterday 14:05  2023 20 Jan      days16       Spouse   buy    1K–15K   \n",
       " 1   Yesterday 14:05  2023 12 Jan      days22  Undisclosed   buy   15K–50K   \n",
       " 2   Yesterday 14:05   2023 2 Feb       days1  Undisclosed   buy  50K–100K   \n",
       " 3   Yesterday 14:05  2023 17 Jan      days17  Undisclosed   buy   15K–50K   \n",
       " 4   Yesterday 14:05  2023 11 Jan      days23  Undisclosed   buy    1K–15K   \n",
       " 5   Yesterday 14:05   2023 5 Jan      days29  Undisclosed   buy    1K–15K   \n",
       " 6   Yesterday 14:05   2023 4 Jan      days30  Undisclosed   buy    1K–15K   \n",
       " 7   Yesterday 14:05   2023 5 Jan      days29  Undisclosed  sell    1K–15K   \n",
       " 8   Yesterday 14:05   2023 5 Jan      days29  Undisclosed  sell    1K–15K   \n",
       " 9   Yesterday 14:05  2023 11 Jan      days23  Undisclosed   buy    1K–15K   \n",
       " 10  Yesterday 14:05   2023 4 Jan      days30  Undisclosed  sell    1K–15K   \n",
       " 11  Yesterday 14:05  2023 11 Jan      days23  Undisclosed   buy    1K–15K   \n",
       " 12  Yesterday 14:05  2023 26 Jan      days10  Undisclosed  sell   15K–50K   \n",
       " 13  Yesterday 14:05  2023 17 Jan      days17        Joint   buy    1K–15K   \n",
       " 14  Yesterday 14:05   2023 4 Jan      days30        Joint   buy    1K–15K   \n",
       " \n",
       "      Price  Unnamed: 9  \n",
       " 0    28.09         NaN  \n",
       " 1      NaN         NaN  \n",
       " 2      NaN         NaN  \n",
       " 3      NaN         NaN  \n",
       " 4   281.08         NaN  \n",
       " 5   177.34         NaN  \n",
       " 6   179.76         NaN  \n",
       " 7    31.75         NaN  \n",
       " 8     9.18         NaN  \n",
       " 9    67.59         NaN  \n",
       " 10  526.45         NaN  \n",
       " 11  243.76         NaN  \n",
       " 12   13.50         NaN  \n",
       " 13   45.16         NaN  \n",
       " 14   30.15         NaN  ]"
      ]
     },
     "execution_count": 3,
     "metadata": {},
     "output_type": "execute_result"
    }
   ],
   "source": [
    "pd_data\n"
   ]
  },
  {
   "cell_type": "code",
   "execution_count": 6,
   "id": "982eea06",
   "metadata": {},
   "outputs": [
    {
     "data": {
      "text/plain": [
       "[                        Politician                             Traded Issuer  \\\n",
       " 0       Bob LattaRepublicanHouseOH    Farmers & Merchants Bancorp IncFMAO:US   \n",
       " 1      Rudy YakymRepublicanHouseIN                      US TREASURY BILLSN/A   \n",
       " 2      Rudy YakymRepublicanHouseIN                      US TREASURY BILLSN/A   \n",
       " 3      Rudy YakymRepublicanHouseIN                      US TREASURY BILLSN/A   \n",
       " 4      Lois FrankelDemocratHouseFL                       Accenture PLCACN:US   \n",
       " 5      Lois FrankelDemocratHouseFL                          Diageo PLCDEO:US   \n",
       " 6      Lois FrankelDemocratHouseFL                          Diageo PLCDEO:US   \n",
       " 7      Lois FrankelDemocratHouseFL                          Fluor CorpFLR:US   \n",
       " 8      Lois FrankelDemocratHouseFL       Hudson Pacific Properties IncHPP:US   \n",
       " 9      Lois FrankelDemocratHouseFL  Johnson Controls International PLCJCI:US   \n",
       " 10     Lois FrankelDemocratHouseFL               Northrop Grumman CorpNOC:US   \n",
       " 11     Lois FrankelDemocratHouseFL             The Sherwin-Williams CoSHW:US   \n",
       " 12     Mark GreenRepublicanHouseTN                   Energy Transfer LPET:US   \n",
       " 13  Virginia FoxxRepublicanHouseNC                     Altria Group IncMO:US   \n",
       " 14  Virginia FoxxRepublicanHouseNC                       FLEX LNG LTDFLNG:US   \n",
       " \n",
       "           Published       Traded Filed after        Owner  Type      Size  \\\n",
       " 0   Yesterday 14:05  2023 20 Jan      days16       Spouse   buy    1K–15K   \n",
       " 1   Yesterday 14:05  2023 12 Jan      days22  Undisclosed   buy   15K–50K   \n",
       " 2   Yesterday 14:05   2023 2 Feb       days1  Undisclosed   buy  50K–100K   \n",
       " 3   Yesterday 14:05  2023 17 Jan      days17  Undisclosed   buy   15K–50K   \n",
       " 4   Yesterday 14:05  2023 11 Jan      days23  Undisclosed   buy    1K–15K   \n",
       " 5   Yesterday 14:05   2023 5 Jan      days29  Undisclosed   buy    1K–15K   \n",
       " 6   Yesterday 14:05   2023 4 Jan      days30  Undisclosed   buy    1K–15K   \n",
       " 7   Yesterday 14:05   2023 5 Jan      days29  Undisclosed  sell    1K–15K   \n",
       " 8   Yesterday 14:05   2023 5 Jan      days29  Undisclosed  sell    1K–15K   \n",
       " 9   Yesterday 14:05  2023 11 Jan      days23  Undisclosed   buy    1K–15K   \n",
       " 10  Yesterday 14:05   2023 4 Jan      days30  Undisclosed  sell    1K–15K   \n",
       " 11  Yesterday 14:05  2023 11 Jan      days23  Undisclosed   buy    1K–15K   \n",
       " 12  Yesterday 14:05  2023 26 Jan      days10  Undisclosed  sell   15K–50K   \n",
       " 13  Yesterday 14:05  2023 17 Jan      days17        Joint   buy    1K–15K   \n",
       " 14  Yesterday 14:05   2023 4 Jan      days30        Joint   buy    1K–15K   \n",
       " \n",
       "      Price  Unnamed: 9  \n",
       " 0    28.09         NaN  \n",
       " 1      NaN         NaN  \n",
       " 2      NaN         NaN  \n",
       " 3      NaN         NaN  \n",
       " 4   281.08         NaN  \n",
       " 5   177.34         NaN  \n",
       " 6   179.76         NaN  \n",
       " 7    31.75         NaN  \n",
       " 8     9.18         NaN  \n",
       " 9    67.59         NaN  \n",
       " 10  526.45         NaN  \n",
       " 11  243.76         NaN  \n",
       " 12   13.50         NaN  \n",
       " 13   45.16         NaN  \n",
       " 14   30.15         NaN  ]"
      ]
     },
     "execution_count": 6,
     "metadata": {},
     "output_type": "execute_result"
    }
   ],
   "source": [
    "pd_data2 = pd.read_html(data2)\n",
    "pd_data2"
   ]
  },
  {
   "cell_type": "code",
   "execution_count": 5,
   "id": "f7a52443",
   "metadata": {},
   "outputs": [
    {
     "ename": "TypeError",
     "evalue": "Can only merge Series or DataFrame objects, a <class 'list'> was passed",
     "output_type": "error",
     "traceback": [
      "\u001b[1;31m---------------------------------------------------------------------------\u001b[0m",
      "\u001b[1;31mTypeError\u001b[0m                                 Traceback (most recent call last)",
      "\u001b[1;32m~\\AppData\\Local\\Temp\\ipykernel_12972\\172025611.py\u001b[0m in \u001b[0;36m<module>\u001b[1;34m\u001b[0m\n\u001b[0;32m      1\u001b[0m \u001b[1;31m# pd.read_html(data)\u001b[0m\u001b[1;33m\u001b[0m\u001b[1;33m\u001b[0m\u001b[0m\n\u001b[1;32m----> 2\u001b[1;33m \u001b[0mdata_merged\u001b[0m \u001b[1;33m=\u001b[0m \u001b[0mpd\u001b[0m\u001b[1;33m.\u001b[0m\u001b[0mmerge\u001b[0m\u001b[1;33m(\u001b[0m\u001b[0mpd_data\u001b[0m\u001b[1;33m,\u001b[0m \u001b[0mpd_data2\u001b[0m\u001b[1;33m,\u001b[0m \u001b[0mhow\u001b[0m\u001b[1;33m=\u001b[0m\u001b[1;34m\"left\"\u001b[0m\u001b[1;33m)\u001b[0m\u001b[1;33m\u001b[0m\u001b[1;33m\u001b[0m\u001b[0m\n\u001b[0m\u001b[0;32m      3\u001b[0m \u001b[0mpd\u001b[0m\u001b[1;33m.\u001b[0m\u001b[0mdata_merged\u001b[0m\u001b[1;33m\u001b[0m\u001b[1;33m\u001b[0m\u001b[0m\n",
      "\u001b[1;32m~\\anaconda3\\lib\\site-packages\\pandas\\core\\reshape\\merge.py\u001b[0m in \u001b[0;36mmerge\u001b[1;34m(left, right, how, on, left_on, right_on, left_index, right_index, sort, suffixes, copy, indicator, validate)\u001b[0m\n\u001b[0;32m    105\u001b[0m     \u001b[0mvalidate\u001b[0m\u001b[1;33m:\u001b[0m \u001b[0mstr\u001b[0m \u001b[1;33m|\u001b[0m \u001b[1;32mNone\u001b[0m \u001b[1;33m=\u001b[0m \u001b[1;32mNone\u001b[0m\u001b[1;33m,\u001b[0m\u001b[1;33m\u001b[0m\u001b[1;33m\u001b[0m\u001b[0m\n\u001b[0;32m    106\u001b[0m ) -> DataFrame:\n\u001b[1;32m--> 107\u001b[1;33m     op = _MergeOperation(\n\u001b[0m\u001b[0;32m    108\u001b[0m         \u001b[0mleft\u001b[0m\u001b[1;33m,\u001b[0m\u001b[1;33m\u001b[0m\u001b[1;33m\u001b[0m\u001b[0m\n\u001b[0;32m    109\u001b[0m         \u001b[0mright\u001b[0m\u001b[1;33m,\u001b[0m\u001b[1;33m\u001b[0m\u001b[1;33m\u001b[0m\u001b[0m\n",
      "\u001b[1;32m~\\anaconda3\\lib\\site-packages\\pandas\\core\\reshape\\merge.py\u001b[0m in \u001b[0;36m__init__\u001b[1;34m(self, left, right, how, on, left_on, right_on, axis, left_index, right_index, sort, suffixes, copy, indicator, validate)\u001b[0m\n\u001b[0;32m    626\u001b[0m         \u001b[0mvalidate\u001b[0m\u001b[1;33m:\u001b[0m \u001b[0mstr\u001b[0m \u001b[1;33m|\u001b[0m \u001b[1;32mNone\u001b[0m \u001b[1;33m=\u001b[0m \u001b[1;32mNone\u001b[0m\u001b[1;33m,\u001b[0m\u001b[1;33m\u001b[0m\u001b[1;33m\u001b[0m\u001b[0m\n\u001b[0;32m    627\u001b[0m     ):\n\u001b[1;32m--> 628\u001b[1;33m         \u001b[0m_left\u001b[0m \u001b[1;33m=\u001b[0m \u001b[0m_validate_operand\u001b[0m\u001b[1;33m(\u001b[0m\u001b[0mleft\u001b[0m\u001b[1;33m)\u001b[0m\u001b[1;33m\u001b[0m\u001b[1;33m\u001b[0m\u001b[0m\n\u001b[0m\u001b[0;32m    629\u001b[0m         \u001b[0m_right\u001b[0m \u001b[1;33m=\u001b[0m \u001b[0m_validate_operand\u001b[0m\u001b[1;33m(\u001b[0m\u001b[0mright\u001b[0m\u001b[1;33m)\u001b[0m\u001b[1;33m\u001b[0m\u001b[1;33m\u001b[0m\u001b[0m\n\u001b[0;32m    630\u001b[0m         \u001b[0mself\u001b[0m\u001b[1;33m.\u001b[0m\u001b[0mleft\u001b[0m \u001b[1;33m=\u001b[0m \u001b[0mself\u001b[0m\u001b[1;33m.\u001b[0m\u001b[0morig_left\u001b[0m \u001b[1;33m=\u001b[0m \u001b[0m_left\u001b[0m\u001b[1;33m\u001b[0m\u001b[1;33m\u001b[0m\u001b[0m\n",
      "\u001b[1;32m~\\anaconda3\\lib\\site-packages\\pandas\\core\\reshape\\merge.py\u001b[0m in \u001b[0;36m_validate_operand\u001b[1;34m(obj)\u001b[0m\n\u001b[0;32m   2283\u001b[0m             \u001b[1;32mreturn\u001b[0m \u001b[0mobj\u001b[0m\u001b[1;33m.\u001b[0m\u001b[0mto_frame\u001b[0m\u001b[1;33m(\u001b[0m\u001b[1;33m)\u001b[0m\u001b[1;33m\u001b[0m\u001b[1;33m\u001b[0m\u001b[0m\n\u001b[0;32m   2284\u001b[0m     \u001b[1;32melse\u001b[0m\u001b[1;33m:\u001b[0m\u001b[1;33m\u001b[0m\u001b[1;33m\u001b[0m\u001b[0m\n\u001b[1;32m-> 2285\u001b[1;33m         raise TypeError(\n\u001b[0m\u001b[0;32m   2286\u001b[0m             \u001b[1;34mf\"Can only merge Series or DataFrame objects, a {type(obj)} was passed\"\u001b[0m\u001b[1;33m\u001b[0m\u001b[1;33m\u001b[0m\u001b[0m\n\u001b[0;32m   2287\u001b[0m         )\n",
      "\u001b[1;31mTypeError\u001b[0m: Can only merge Series or DataFrame objects, a <class 'list'> was passed"
     ]
    }
   ],
   "source": [
    "# pd.read_html(data)\n",
    "data_merged = pd.merge(pd_data, pd_data2, how=\"left\")\n",
    "pd.data_merged"
   ]
  },
  {
   "cell_type": "code",
   "execution_count": 4,
   "id": "204026f6",
   "metadata": {},
   "outputs": [
    {
     "name": "stdout",
     "output_type": "stream",
     "text": [
      "<bound method Response.json of <Response [403]>>\n",
      "<bound method Response.json of <Response [403]>>\n",
      "<bound method Response.json of <Response [403]>>\n",
      "<bound method Response.json of <Response [403]>>\n",
      "<bound method Response.json of <Response [403]>>\n"
     ]
    }
   ],
   "source": [
    "base_url = \"https://house-stock-watcher-data.s3-us-west-2.amazonaws.com/data/all_transactions.json\"\n",
    "symbols = [\"Politician\", \"Traded Issuer\", \"Published\", \"Traded\", \"Type\"]\n",
    "for symbol in symbols:\n",
    "    url = base_url + symbol\n",
    "    response = requests.get(url)\n",
    "    data = response.json\n",
    "    print(data)"
   ]
  },
  {
   "cell_type": "code",
   "execution_count": null,
   "id": "7e9ba7df",
   "metadata": {},
   "outputs": [],
   "source": []
  }
 ],
 "metadata": {
  "kernelspec": {
   "display_name": "Python 3 (ipykernel)",
   "language": "python",
   "name": "python3"
  },
  "language_info": {
   "codemirror_mode": {
    "name": "ipython",
    "version": 3
   },
   "file_extension": ".py",
   "mimetype": "text/x-python",
   "name": "python",
   "nbconvert_exporter": "python",
   "pygments_lexer": "ipython3",
   "version": "3.9.13"
  }
 },
 "nbformat": 4,
 "nbformat_minor": 5
}
